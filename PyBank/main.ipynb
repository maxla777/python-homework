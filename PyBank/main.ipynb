{
 "cells": [
  {
   "cell_type": "code",
   "execution_count": null,
   "metadata": {},
   "outputs": [],
   "source": [
    "\"\"\"Your task is to create a Python script that analyzes the records to calculate each of the following:\n",
    "\n",
    "\n",
    "The total number of months included in the dataset.\n",
    "\n",
    "\n",
    "The net total amount of Profit/Losses over the entire period.\n",
    "\n",
    "\n",
    "The average of the changes in Profit/Losses over the entire period.\n",
    "\n",
    "\n",
    "The greatest increase in profits (date and amount) over the entire period.\n",
    "\n",
    "\n",
    "The greatest decrease in losses (date and amount) over the entire period.\n",
    "\n",
    "\n",
    "Your resulting analysis should look similar to the following:\n",
    "Financial Analysis\n",
    "----------------------------\n",
    "Total Months: 86\n",
    "Total: $38382578\n",
    "Average  Change: $-2315.12\n",
    "Greatest Increase in Profits: Feb-2012 ($1926159)\n",
    "Greatest Decrease in Profits: Sep-2013 ($-2196167)\n",
    "Your final script should print the analysis to the terminal and export a text file with the results.\"\"\""
   ]
  },
  {
   "cell_type": "code",
   "execution_count": 5,
   "metadata": {},
   "outputs": [],
   "source": [
    "#import from the pathlib library, the main class Path\n",
    "\n",
    "from pathlib import Path\n",
    "import csv\n"
   ]
  },
  {
   "cell_type": "code",
   "execution_count": 10,
   "metadata": {},
   "outputs": [],
   "source": [
    "#set the file path\n",
    "\n",
    "csvpath = Path('budget_data.csv')"
   ]
  },
  {
   "cell_type": "code",
   "execution_count": 53,
   "metadata": {},
   "outputs": [],
   "source": [
    "#initialize variable to hold months, total_profits, profitable_days and non_profitable_days\n",
    "total_months = 0\n",
    "total_profits = 0\n",
    "profitable_value =0\n",
    "profitable_diff= 0\n",
    "max_increase = 0\n",
    "max_decrease = 0"
   ]
  },
  {
   "cell_type": "code",
   "execution_count": 54,
   "metadata": {},
   "outputs": [],
   "source": [
    "#open the csv file\n",
    "\n",
    "with open(csvpath, \"r\") as csvfile:\n",
    "    #put csv file through the csv reader function and return the csvreader object\n",
    "    csvreader = csv.reader(csvfile, delimiter =\",\")\n",
    "    \n",
    "    #read the csv header\n",
    "    csv_header = next(csvreader)\n",
    "    #print(csv_header)\n",
    "    #read each row of data after the header\n",
    "    for row in csvreader:\n",
    "        \n",
    "        #print(row)\n",
    "        #assign colums to months and profits and calculate the difference in profits\n",
    "        month = row[0]\n",
    "        profits = row[1]\n",
    "        tprofits = int(profits)\n",
    "        profitable_diff = tprofits - profitable_value\n",
    "        \n",
    "        #find the greatest increase\n",
    "        if max_increase < profitable_diff:\n",
    "            max_increase = profitable_diff\n",
    "            max_month = month\n",
    "        #find the greatest decrease\n",
    "        if max_decrease > profitable_diff:\n",
    "            max_decrease = profitable_diff\n",
    "            min_month = month\n",
    "            \n",
    "        \n",
    "        \n",
    "        \n",
    "       \n",
    "        #sum profits\n",
    "        total_profits += int(profits)\n",
    "        \n",
    "      \n",
    "    "
   ]
  },
  {
   "cell_type": "code",
   "execution_count": 55,
   "metadata": {},
   "outputs": [
    {
     "name": "stdout",
     "output_type": "stream",
     "text": [
      "Total Months: 38382578\n"
     ]
    }
   ],
   "source": [
    "print(f\"Total Profits: {total_profits}\")"
   ]
  },
  {
   "cell_type": "code",
   "execution_count": null,
   "metadata": {},
   "outputs": [],
   "source": []
  }
 ],
 "metadata": {
  "kernelspec": {
   "display_name": "Python 3",
   "language": "python",
   "name": "python3"
  },
  "language_info": {
   "codemirror_mode": {
    "name": "ipython",
    "version": 3
   },
   "file_extension": ".py",
   "mimetype": "text/x-python",
   "name": "python",
   "nbconvert_exporter": "python",
   "pygments_lexer": "ipython3",
   "version": "3.7.7"
  }
 },
 "nbformat": 4,
 "nbformat_minor": 4
}
